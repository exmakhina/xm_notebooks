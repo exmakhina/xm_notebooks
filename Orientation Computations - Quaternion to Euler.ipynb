{
 "cells": [
  {
   "cell_type": "markdown",
   "metadata": {},
   "source": [
    "# Orientation Computations - Quaternion to Euler"
   ]
  },
  {
   "cell_type": "markdown",
   "metadata": {},
   "source": [
    "There are a lot of equations floating around, a lot of documents providing information.\n",
    "The particularity of this work is that it is providing help to derive the equations quickly, by oneself."
   ]
  },
  {
   "cell_type": "code",
   "execution_count": 1,
   "metadata": {
    "collapsed": true
   },
   "outputs": [],
   "source": [
    "import sympy"
   ]
  },
  {
   "cell_type": "code",
   "execution_count": 2,
   "metadata": {
    "collapsed": true
   },
   "outputs": [],
   "source": [
    "sympy.init_printing()"
   ]
  },
  {
   "cell_type": "code",
   "execution_count": 3,
   "metadata": {
    "collapsed": true
   },
   "outputs": [],
   "source": [
    "from IPython.display import display"
   ]
  },
  {
   "cell_type": "markdown",
   "metadata": {},
   "source": [
    "We'll use a simple quaternion class:"
   ]
  },
  {
   "cell_type": "code",
   "execution_count": 4,
   "metadata": {
    "collapsed": false
   },
   "outputs": [],
   "source": [
    "class Quaternion(sympy.Matrix):\n",
    "    @property\n",
    "    def r(self):\n",
    "        return self[0]\n",
    "\n",
    "    @property\n",
    "    def v(self):\n",
    "        return self[1:,:]\n",
    "\n",
    "    @staticmethod\n",
    "    def fromRV(r, v):\n",
    "        \"\"\"\n",
    "        Construct a quaternion from real and vector parts\n",
    "        \"\"\"\n",
    "        return Quaternion([r, v[0], v[1], v[2]])\n",
    "\n",
    "    @staticmethod\n",
    "    def fromAxisAngle(axis, angle):\n",
    "        return Quaternion.fromRV(sympy.cos(angle/2), [(x * sympy.sin(angle/2)) for x in axis])\n",
    "    \n",
    "\n",
    "    def conj(self):\n",
    "        \"\"\"\n",
    "        :return: conjugate quaternion\n",
    "        \"\"\"\n",
    "        return Quaternion.fromRV(self.r, -1 * self.v)\n",
    "\n",
    "    @staticmethod\n",
    "    def prod(a, b):\n",
    "        \"\"\"\n",
    "        :return: product of 2 quaternions using scalar-vector formula\n",
    "        \"\"\"\n",
    "        r = a.r * b.r - a.v.dot(b.v)\n",
    "        v = a.r * b.v + b.r * a.v + a.v.cross(b.v)\n",
    "        return Quaternion.fromRV(r, v)\n",
    "\n",
    "    def rot(self, w):\n",
    "        \"\"\"\n",
    "        :param w: vector to rotate with self\n",
    "        :return: rotated vector\n",
    "        \"\"\"\n",
    "        W = Quaternion.fromRV(0, w)\n",
    "        return Quaternion.prod(self, Quaternion.prod(W, self.conj()))[1:,:]"
   ]
  },
  {
   "cell_type": "markdown",
   "metadata": {},
   "source": [
    "# Setup Phase"
   ]
  },
  {
   "cell_type": "markdown",
   "metadata": {},
   "source": [
    "Let's define the quaternion from its convention (**caution: it's important**).\n",
    "\n",
    "Reminders:\n",
    "\n",
    "- There are several options:\n",
    "\n",
    "  - The order of elements (scalar or vector first);\n",
    "  - The multiplication formula, which correspond to handedness;\n",
    "  - The function of the rotation operator, rotating frames or rotating vectors;\n",
    "  - In the passive case, the direction of the operation using the quaternion;\n",
    "\n",
    "- In particular, there is the Hamilton convention and the JPL convention:\n",
    "\n",
    "  - JPL (from the space guys) has the vector elements before the scalar one, uses a left-handed coordinate system, and uses global-to-local right-to-left products.\n",
    "  - Hamilton is for the robotics people\n",
    "\n",
    "If you want to read more: http://www.iri.upc.edu/people/jsola/JoanSola/objectes/notes/kinematics.pdf § 1.5\n",
    "\n",
    "This code works for everybody.\n",
    "\n",
    "Here we just setup the (unit) quaternion contents:"
   ]
  },
  {
   "cell_type": "code",
   "execution_count": 5,
   "metadata": {
    "collapsed": false
   },
   "outputs": [],
   "source": [
    "class Situation:\n",
    "    \"\"\"\n",
    "    Enum for the convention\n",
    "    \"\"\"\n",
    "    \n",
    "    # OK\n",
    "    # eg. http://www.sedris.org/wg8home/Documents/WG80485.pdf p. 39\n",
    "    TaitBryan_RzPsiRyThetaRxPhi = 1\n",
    "\n",
    "    # OK\n",
    "    # eg. § 2.2.1 - 3D+Quat to 3D+YPR\n",
    "    #     https://pixhawk.org/_media/dev/know-how/jlblanco2010geometry3d_techrep.pdf\n",
    "    TaitBryan_TaitBryan_MRPT = 2\n",
    "\n",
    "    # OK\n",
    "    # eg. https://en.wikipedia.org/wiki/Conversion_between_quaternions_and_Euler_angles#Quaternion_to_Euler_Angles_Conversion\n",
    "    TaitBryan_Wikipedia_RzPsiRyThetaRxPhi = 3\n",
    "    \n",
    "    # WIP\n",
    "    # eg. http://www.euclideanspace.com/maths/geometry/rotations/conversions/quaternionToEuler/index.htm\n",
    "    TaitBryan_EuclidianSpaceDotCom = 4\n",
    "    \n",
    "situation = Situation.TaitBryan_TaitBryan_MRPT\n",
    "\n",
    "if situation == Situation.TaitBryan_RzPsiRyThetaRxPhi:\n",
    "    q0, q1, q2, q3 = sympy.symbols(\"e0, e1, e2, e3\")\n",
    "    q = Quaternion.fromRV(q0, [q1, q2, q3])\n",
    "elif situation in (Situation.TaitBryan_Wikipedia_RzPsiRyThetaRxPhi,):\n",
    "    q0, q1, q2, q3 = sympy.symbols(\"q0, q1, q2, q3\")\n",
    "    q = Quaternion.fromRV(q0, [q2, q1, q3])\n",
    "elif situation in (Situation.TaitBryan_TaitBryan_MRPT,):\n",
    "    q0, q1, q2, q3 = sympy.symbols(\"q_r, q_x, q_y, q_z\")\n",
    "    q = Quaternion.fromRV(q0, [q2, q1, q3])\n",
    "elif situation in (Situation.TaitBryan_EuclidianSpaceDotCom,):\n",
    "    qs = sympy.symbols(\"qw, qx, qy, qz\")\n",
    "    q = Quaternion.fromRV(qs[0], qs[1:])\n",
    "else:\n",
    "    raise NotImplementedError(situation)"
   ]
  },
  {
   "cell_type": "markdown",
   "metadata": {},
   "source": [
    "Let's give names and vectors to the transforms (**caution: it's important**):"
   ]
  },
  {
   "cell_type": "code",
   "execution_count": 6,
   "metadata": {
    "collapsed": false
   },
   "outputs": [],
   "source": [
    "def unitvector(x):\n",
    "    res = [0, 0, 0]\n",
    "    res[x-1] = 1\n",
    "    return sympy.Matrix(res)\n",
    "\n",
    "# Euler angles\n",
    "if 0:\n",
    "    pass\n",
    "elif situation in (\n",
    " Situation.TaitBryan_RzPsiRyThetaRxPhi,\n",
    "):\n",
    "    a1, a2, a3 = sympy.symbols(\"psi theta phi\")\n",
    "    convention = [3,2,1]\n",
    "    euler_angles = a3, a2, a1\n",
    "elif situation in (\n",
    "    Situation.TaitBryan_TaitBryan_MRPT,\n",
    "):\n",
    "    a1, a2, a3 = sympy.symbols(\"phi khi psi\")\n",
    "    convention = [3,1,2]\n",
    "    euler_angles = a1, a2, a3\n",
    "elif situation in (\n",
    " Situation.TaitBryan_Wikipedia_RzPsiRyThetaRxPhi,\n",
    "):\n",
    "    a1, a2, a3 = sympy.symbols(\"psi theta phi\")\n",
    "    convention = [3,1,2]\n",
    "    euler_angles = a3, a2, a1\n",
    "elif situation in (\n",
    "    Situation.TaitBryan_EuclidianSpaceDotCom,\n",
    "):\n",
    "    a1, a2, a3 = sympy.symbols(\"heading, attitude, bank\")\n",
    "    convention = [2,1,3]\n",
    "    euler_angles = a1, a2, a3\n",
    "else:\n",
    "    raise NotImplementedError(situation)\n",
    "\n",
    "v1, v2, v3 = v = [unitvector(i) for i in convention]\n",
    "\n",
    "r1 = Quaternion.fromAxisAngle(v1, a1)\n",
    "r2 = Quaternion.fromAxisAngle(v2, a2)\n",
    "r3 = Quaternion.fromAxisAngle(v3, a3)"
   ]
  },
  {
   "cell_type": "markdown",
   "metadata": {},
   "source": [
    "So we have our individual axes and angles:"
   ]
  },
  {
   "cell_type": "code",
   "execution_count": 7,
   "metadata": {
    "collapsed": false
   },
   "outputs": [
    {
     "data": {
      "text/latex": [
       "$$\\left[\\begin{matrix}\\left[\\begin{matrix}0\\\\0\\\\1\\end{matrix}\\right] & \\left[\\begin{matrix}1\\\\0\\\\0\\end{matrix}\\right] & \\left[\\begin{matrix}0\\\\1\\\\0\\end{matrix}\\right]\\end{matrix}\\right]$$"
      ],
      "text/plain": [
       "⎡⎡0⎤  ⎡1⎤  ⎡0⎤⎤\n",
       "⎢⎢ ⎥  ⎢ ⎥  ⎢ ⎥⎥\n",
       "⎢⎢0⎥  ⎢0⎥  ⎢1⎥⎥\n",
       "⎢⎢ ⎥  ⎢ ⎥  ⎢ ⎥⎥\n",
       "⎣⎣1⎦  ⎣0⎦  ⎣0⎦⎦"
      ]
     },
     "execution_count": 7,
     "metadata": {},
     "output_type": "execute_result"
    }
   ],
   "source": [
    "sympy.Matrix([[v1], [v2], [v3]]).T"
   ]
  },
  {
   "cell_type": "code",
   "execution_count": 8,
   "metadata": {
    "collapsed": false,
    "scrolled": true
   },
   "outputs": [
    {
     "data": {
      "text/latex": [
       "$$\\left[\\begin{matrix}\\left[\\begin{matrix}\\cos{\\left (\\frac{\\phi}{2} \\right )}\\\\0\\\\0\\\\\\sin{\\left (\\frac{\\phi}{2} \\right )}\\end{matrix}\\right] & \\left[\\begin{matrix}\\cos{\\left (\\frac{\\chi}{2} \\right )}\\\\\\sin{\\left (\\frac{\\chi}{2} \\right )}\\\\0\\\\0\\end{matrix}\\right] & \\left[\\begin{matrix}\\cos{\\left (\\frac{\\psi}{2} \\right )}\\\\0\\\\\\sin{\\left (\\frac{\\psi}{2} \\right )}\\\\0\\end{matrix}\\right]\\end{matrix}\\right]$$"
      ],
      "text/plain": [
       "⎡⎡   ⎛φ⎞⎤  ⎡   ⎛khi⎞⎤  ⎡   ⎛ψ⎞⎤⎤\n",
       "⎢⎢cos⎜─⎟⎥  ⎢cos⎜───⎟⎥  ⎢cos⎜─⎟⎥⎥\n",
       "⎢⎢   ⎝2⎠⎥  ⎢   ⎝ 2 ⎠⎥  ⎢   ⎝2⎠⎥⎥\n",
       "⎢⎢      ⎥  ⎢        ⎥  ⎢      ⎥⎥\n",
       "⎢⎢  0   ⎥  ⎢   ⎛khi⎞⎥  ⎢  0   ⎥⎥\n",
       "⎢⎢      ⎥  ⎢sin⎜───⎟⎥  ⎢      ⎥⎥\n",
       "⎢⎢  0   ⎥  ⎢   ⎝ 2 ⎠⎥  ⎢   ⎛ψ⎞⎥⎥\n",
       "⎢⎢      ⎥  ⎢        ⎥  ⎢sin⎜─⎟⎥⎥\n",
       "⎢⎢   ⎛φ⎞⎥  ⎢   0    ⎥  ⎢   ⎝2⎠⎥⎥\n",
       "⎢⎢sin⎜─⎟⎥  ⎢        ⎥  ⎢      ⎥⎥\n",
       "⎣⎣   ⎝2⎠⎦  ⎣   0    ⎦  ⎣  0   ⎦⎦"
      ]
     },
     "execution_count": 8,
     "metadata": {},
     "output_type": "execute_result"
    }
   ],
   "source": [
    "sympy.Matrix([[r1], [r2], [r3]]).T"
   ]
  },
  {
   "cell_type": "markdown",
   "metadata": {},
   "source": [
    "And then let's setup our quaternion expressed as the chain of rotations (**caution: it's important**).\n",
    "\n",
    "Reminders:\n",
    "\n",
    "- Linked to the quaternion convention\n",
    "- When performing rotation $Q_1$ then $Q_2$, we are applying the quaternion $Q_2 Q_1$.\n",
    "- To express an object attitude (eg. saying “object is at yaw 30° pitch 20°”) is equivalent to replay the world to object rotation"
   ]
  },
  {
   "cell_type": "code",
   "execution_count": 9,
   "metadata": {
    "collapsed": true
   },
   "outputs": [],
   "source": [
    "if situation in (\n",
    " Situation.TaitBryan_RzPsiRyThetaRxPhi,\n",
    "):\n",
    "    q_e = Quaternion.prod(r1, Quaternion.prod(r2, r3))\n",
    "elif situation in (\n",
    " Situation.TaitBryan_TaitBryan_MRPT,\n",
    " Situation.TaitBryan_Wikipedia_RzPsiRyThetaRxPhi,\n",
    "):\n",
    "    q_e = Quaternion.prod(r3, Quaternion.prod(r2, r1))\n",
    "elif situation in (\n",
    " Situation.TaitBryan_EuclidianSpaceDotCom,\n",
    "):\n",
    "    q_e = Quaternion.prod(r3, Quaternion.prod(r2, r1)).conj()\n",
    "else:\n",
    "    raise NotImplementedError(situation)"
   ]
  },
  {
   "cell_type": "markdown",
   "metadata": {
    "collapsed": false
   },
   "source": [
    "Parenthesis: decommenting what follows shows the system to solve and how it wouldn't be directly solved."
   ]
  },
  {
   "cell_type": "code",
   "execution_count": 10,
   "metadata": {
    "collapsed": false
   },
   "outputs": [],
   "source": [
    "if 0:\n",
    "    e = sympy.Eq(q, q_e)\n",
    "    display(e)\n",
    "    sympy.solve(e, exclude=[q[0],q[1],q[2],q[3]])"
   ]
  },
  {
   "cell_type": "markdown",
   "metadata": {},
   "source": [
    "# Let's Rock"
   ]
  },
  {
   "cell_type": "markdown",
   "metadata": {},
   "source": [
    "With all the setup done, we (well, the computer) can solve the system indirectly, by generating equations from rotations of unit vectors, which may not be affected by the rotation around them."
   ]
  },
  {
   "cell_type": "code",
   "execution_count": 11,
   "metadata": {
    "collapsed": false
   },
   "outputs": [
    {
     "data": {
      "text/latex": [
       "$$\\left[\\begin{matrix}2 q_{r} q_{x} + 2 q_{y} q_{z}\\\\- 2 q_{r} q_{y} + 2 q_{x} q_{z}\\\\q_{r}^{2} - q_{x}^{2} - q_{y}^{2} + q_{z}^{2}\\end{matrix}\\right] = \\left[\\begin{matrix}\\sin{\\left (\\psi \\right )} \\cos{\\left (\\chi \\right )}\\\\- \\sin{\\left (\\chi \\right )}\\\\\\cos{\\left (\\chi \\right )} \\cos{\\left (\\psi \\right )}\\end{matrix}\\right]$$"
      ],
      "text/plain": [
       "⎡  2⋅qᵣ⋅qₓ + 2⋅q_y⋅q_z  ⎤ = ⎡sin(ψ)⋅cos(khi)⎤\n",
       "⎢                       ⎥   ⎢               ⎥\n",
       "⎢ -2⋅qᵣ⋅q_y + 2⋅qₓ⋅q_z  ⎥   ⎢   -sin(khi)   ⎥\n",
       "⎢                       ⎥   ⎢               ⎥\n",
       "⎢  2     2      2      2⎥   ⎣cos(khi)⋅cos(ψ)⎦\n",
       "⎣qᵣ  - qₓ  - q_y  + q_z ⎦                    "
      ]
     },
     "metadata": {},
     "output_type": "display_data"
    },
    {
     "data": {
      "text/latex": [
       "$$\\left[\\begin{matrix}- 2 q_{r} q_{x} + 2 q_{y} q_{z}\\\\2 q_{r} q_{y} + 2 q_{x} q_{z}\\\\q_{r}^{2} - q_{x}^{2} - q_{y}^{2} + q_{z}^{2}\\end{matrix}\\right] = \\left[\\begin{matrix}\\sin{\\left (\\chi \\right )} \\sin{\\left (\\phi \\right )} \\cos{\\left (\\psi \\right )} - \\sin{\\left (\\psi \\right )} \\cos{\\left (\\phi \\right )}\\\\\\sin{\\left (\\chi \\right )} \\cos{\\left (\\phi \\right )} \\cos{\\left (\\psi \\right )} + \\sin{\\left (\\phi \\right )} \\sin{\\left (\\psi \\right )}\\\\\\cos{\\left (\\chi \\right )} \\cos{\\left (\\psi \\right )}\\end{matrix}\\right]$$"
      ],
      "text/plain": [
       "⎡ -2⋅qᵣ⋅qₓ + 2⋅q_y⋅q_z  ⎤ = ⎡sin(khi)⋅sin(φ)⋅cos(ψ) - sin(ψ)⋅cos(φ)⎤\n",
       "⎢                       ⎥   ⎢                                      ⎥\n",
       "⎢  2⋅qᵣ⋅q_y + 2⋅qₓ⋅q_z  ⎥   ⎢sin(khi)⋅cos(φ)⋅cos(ψ) + sin(φ)⋅sin(ψ)⎥\n",
       "⎢                       ⎥   ⎢                                      ⎥\n",
       "⎢  2     2      2      2⎥   ⎣           cos(khi)⋅cos(ψ)            ⎦\n",
       "⎣qᵣ  - qₓ  - q_y  + q_z ⎦                                           "
      ]
     },
     "metadata": {},
     "output_type": "display_data"
    },
    {
     "data": {
      "text/latex": [
       "$$\\left[\\begin{matrix}q_{r}^{2} - q_{x}^{2} + q_{y}^{2} - q_{z}^{2}\\\\2 q_{r} q_{z} + 2 q_{x} q_{y}\\\\- 2 q_{r} q_{x} + 2 q_{y} q_{z}\\end{matrix}\\right] = \\left[\\begin{matrix}\\sin{\\left (\\chi \\right )} \\sin{\\left (\\phi \\right )} \\sin{\\left (\\psi \\right )} + \\cos{\\left (\\phi \\right )} \\cos{\\left (\\psi \\right )}\\\\\\sin{\\left (\\phi \\right )} \\cos{\\left (\\chi \\right )}\\\\\\sin{\\left (\\chi \\right )} \\sin{\\left (\\phi \\right )} \\cos{\\left (\\psi \\right )} - \\sin{\\left (\\psi \\right )} \\cos{\\left (\\phi \\right )}\\end{matrix}\\right]$$"
      ],
      "text/plain": [
       "⎡  2     2      2      2⎤                                           \n",
       "⎢qᵣ  - qₓ  + q_y  - q_z ⎥ = ⎡sin(khi)⋅sin(φ)⋅sin(ψ) + cos(φ)⋅cos(ψ)⎤\n",
       "⎢                       ⎥   ⎢                                      ⎥\n",
       "⎢  2⋅qᵣ⋅q_z + 2⋅qₓ⋅q_y  ⎥   ⎢           sin(φ)⋅cos(khi)            ⎥\n",
       "⎢                       ⎥   ⎢                                      ⎥\n",
       "⎣ -2⋅qᵣ⋅qₓ + 2⋅q_y⋅q_z  ⎦   ⎣sin(khi)⋅sin(φ)⋅cos(ψ) - sin(ψ)⋅cos(φ)⎦"
      ]
     },
     "metadata": {},
     "output_type": "display_data"
    },
    {
     "data": {
      "text/latex": [
       "$$\\left[\\begin{matrix}q_{r}^{2} - q_{x}^{2} + q_{y}^{2} - q_{z}^{2}\\\\- 2 q_{r} q_{z} + 2 q_{x} q_{y}\\\\2 q_{r} q_{x} + 2 q_{y} q_{z}\\end{matrix}\\right] = \\left[\\begin{matrix}\\sin{\\left (\\chi \\right )} \\sin{\\left (\\phi \\right )} \\sin{\\left (\\psi \\right )} + \\cos{\\left (\\phi \\right )} \\cos{\\left (\\psi \\right )}\\\\\\sin{\\left (\\chi \\right )} \\sin{\\left (\\psi \\right )} \\cos{\\left (\\phi \\right )} - \\sin{\\left (\\phi \\right )} \\cos{\\left (\\psi \\right )}\\\\\\sin{\\left (\\psi \\right )} \\cos{\\left (\\chi \\right )}\\end{matrix}\\right]$$"
      ],
      "text/plain": [
       "⎡  2     2      2      2⎤                                           \n",
       "⎢qᵣ  - qₓ  + q_y  - q_z ⎥ = ⎡sin(khi)⋅sin(φ)⋅sin(ψ) + cos(φ)⋅cos(ψ)⎤\n",
       "⎢                       ⎥   ⎢                                      ⎥\n",
       "⎢ -2⋅qᵣ⋅q_z + 2⋅qₓ⋅q_y  ⎥   ⎢sin(khi)⋅sin(ψ)⋅cos(φ) - sin(φ)⋅cos(ψ)⎥\n",
       "⎢                       ⎥   ⎢                                      ⎥\n",
       "⎣  2⋅qᵣ⋅qₓ + 2⋅q_y⋅q_z  ⎦   ⎣           sin(ψ)⋅cos(khi)            ⎦"
      ]
     },
     "metadata": {},
     "output_type": "display_data"
    },
    {
     "data": {
      "text/latex": [
       "$$\\left[\\begin{matrix}- 2 q_{r} q_{z} + 2 q_{x} q_{y}\\\\q_{r}^{2} + q_{x}^{2} - q_{y}^{2} - q_{z}^{2}\\\\2 q_{r} q_{y} + 2 q_{x} q_{z}\\end{matrix}\\right] = \\left[\\begin{matrix}\\sin{\\left (\\chi \\right )} \\sin{\\left (\\psi \\right )} \\cos{\\left (\\phi \\right )} - \\sin{\\left (\\phi \\right )} \\cos{\\left (\\psi \\right )}\\\\\\cos{\\left (\\chi \\right )} \\cos{\\left (\\phi \\right )}\\\\\\sin{\\left (\\chi \\right )} \\cos{\\left (\\phi \\right )} \\cos{\\left (\\psi \\right )} + \\sin{\\left (\\phi \\right )} \\sin{\\left (\\psi \\right )}\\end{matrix}\\right]$$"
      ],
      "text/plain": [
       "⎡ -2⋅qᵣ⋅q_z + 2⋅qₓ⋅q_y  ⎤ = ⎡sin(khi)⋅sin(ψ)⋅cos(φ) - sin(φ)⋅cos(ψ)⎤\n",
       "⎢                       ⎥   ⎢                                      ⎥\n",
       "⎢  2     2      2      2⎥   ⎢           cos(khi)⋅cos(φ)            ⎥\n",
       "⎢qᵣ  + qₓ  - q_y  - q_z ⎥   ⎢                                      ⎥\n",
       "⎢                       ⎥   ⎣sin(khi)⋅cos(φ)⋅cos(ψ) + sin(φ)⋅sin(ψ)⎦\n",
       "⎣  2⋅qᵣ⋅q_y + 2⋅qₓ⋅q_z  ⎦                                           "
      ]
     },
     "metadata": {},
     "output_type": "display_data"
    },
    {
     "data": {
      "text/latex": [
       "$$\\left[\\begin{matrix}2 q_{r} q_{z} + 2 q_{x} q_{y}\\\\q_{r}^{2} + q_{x}^{2} - q_{y}^{2} - q_{z}^{2}\\\\- 2 q_{r} q_{y} + 2 q_{x} q_{z}\\end{matrix}\\right] = \\left[\\begin{matrix}\\sin{\\left (\\phi \\right )} \\cos{\\left (\\chi \\right )}\\\\\\cos{\\left (\\chi \\right )} \\cos{\\left (\\phi \\right )}\\\\- \\sin{\\left (\\chi \\right )}\\end{matrix}\\right]$$"
      ],
      "text/plain": [
       "⎡  2⋅qᵣ⋅q_z + 2⋅qₓ⋅q_y  ⎤ = ⎡sin(φ)⋅cos(khi)⎤\n",
       "⎢                       ⎥   ⎢               ⎥\n",
       "⎢  2     2      2      2⎥   ⎢cos(khi)⋅cos(φ)⎥\n",
       "⎢qᵣ  + qₓ  - q_y  - q_z ⎥   ⎢               ⎥\n",
       "⎢                       ⎥   ⎣   -sin(khi)   ⎦\n",
       "⎣ -2⋅qᵣ⋅q_y + 2⋅qₓ⋅q_z  ⎦                    "
      ]
     },
     "metadata": {},
     "output_type": "display_data"
    }
   ],
   "source": [
    "a1d2, a2d2, a3d2 = sympy.symbols(\"a1d2, a2d2, a3d2\")\n",
    "subs_a = {a1: a1d2*2, a2: a2d2*2, a3: a3d2*2}\n",
    "subs_b = {a1d2: a1/2, a2d2: a2/2, a3d2: a3/2}\n",
    "simp = lambda tmp: tmp.subs(subs_a).simplify().subs(subs_b).simplify()\n",
    "eqs = list()\n",
    "for unitvector in (v1, v2, v3):\n",
    "    lhs = q.rot(unitvector)\n",
    "    uvrot_e = q_e.rot(unitvector)\n",
    "    rhs = Quaternion([simp(tmp) for tmp in uvrot_e])\n",
    "    tmp = sympy.Eq(lhs, rhs)\n",
    "    eqs.append(tmp)\n",
    "    display(tmp)\n",
    "    lhs = q.conj().rot(unitvector)\n",
    "    uvrot_e = q_e.conj().rot(unitvector)\n",
    "    rhs = Quaternion([simp(tmp) for tmp in uvrot_e])\n",
    "    tmp = sympy.Eq(lhs, rhs)\n",
    "    eqs.append(tmp)\n",
    "    display(tmp)   "
   ]
  },
  {
   "cell_type": "markdown",
   "metadata": {},
   "source": [
    "Now let's establish some tools used to manipulate the above expressions:"
   ]
  },
  {
   "cell_type": "code",
   "execution_count": 12,
   "metadata": {
    "collapsed": false
   },
   "outputs": [],
   "source": [
    "def div_eq(num_eq, num_term, den_eq, den_term):\n",
    "    return sympy.Eq(\n",
    "     eqs[num_eq].lhs[num_term] / eqs[den_eq].lhs[den_term],\n",
    "     (eqs[num_eq].rhs[num_term] / eqs[den_eq].rhs[den_term]).simplify(),\n",
    "    )\n",
    "\n",
    "def row_eq(eq, term):\n",
    "    return sympy.Eq(eqs[eq].lhs[term], eqs[eq].rhs[term])\n",
    "\n",
    "def zemul(x):\n",
    "    if x.is_Mul and -1 in x.args:\n",
    "        rest = 1\n",
    "        for arg in x.args:\n",
    "            if arg == -1:\n",
    "                continue\n",
    "            rest = rest * arg\n",
    "        return -1, rest\n",
    "    else:\n",
    "        return 1, x\n",
    "\n",
    "def is_sincos(mul, unknown):\n",
    "    a, b = mul.args\n",
    "    if isinstance(a, sympy.cos):\n",
    "        a, b = b, a\n",
    "    \n",
    "    a_sinp = isinstance(a, sympy.sin)\n",
    "    b_cosp = isinstance(b, sympy.cos)\n",
    "    if not (a_sinp and b_cosp):\n",
    "        return False\n",
    "\n",
    "    return a.args == (unknown,)\n",
    "\n",
    "def is_coscos(mul, unknown):\n",
    "    a, b = mul.args\n",
    "    if isinstance(a, sympy.cos):\n",
    "        a, b = b, a\n",
    "    \n",
    "    a_cosp = isinstance(a, sympy.cos)\n",
    "    b_cosp = isinstance(b, sympy.cos)\n",
    "    if not (a_cosp and b_cosp):\n",
    "        return False\n",
    "\n",
    "    unknown_p = unknown in a.args or unknown in b.args\n",
    "    \n",
    "    return unknown_p"
   ]
  },
  {
   "cell_type": "markdown",
   "metadata": {},
   "source": [
    "And let's run our equations to retrieve direct and indirect ways to find the solution:"
   ]
  },
  {
   "cell_type": "code",
   "execution_count": 13,
   "metadata": {
    "collapsed": false
   },
   "outputs": [
    {
     "name": "stdout",
     "output_type": "stream",
     "text": [
      "\n",
      "\n",
      "\n"
     ]
    },
    {
     "data": {
      "image/png": "[encoded data removed]",
      "text/latex": [
       "$$\\tan{\\left (\\phi \\right )} = \\frac{2 q_{r} q_{z} + 2 q_{x} q_{y}}{- 2 q_{y}^{2} - 2 q_{z}^{2} + 1}$$"
      ],
      "text/plain": [
       "          2⋅qᵣ⋅q_z + 2⋅qₓ⋅q_y \n",
       "tan(φ) = ─────────────────────\n",
       "                2        2    \n",
       "         - 2⋅q_y  - 2⋅q_z  + 1"
      ]
     },
     "metadata": {},
     "output_type": "display_data"
    },
    {
     "data": {
      "image/png": "[encoded data removed]",
      "text/latex": [
       "$$- \\sin{\\left (\\chi \\right )} = - 2 q_{r} q_{y} + 2 q_{x} q_{z}$$"
      ],
      "text/plain": [
       "-sin(khi) = -2⋅qᵣ⋅q_y + 2⋅qₓ⋅q_z"
      ]
     },
     "metadata": {},
     "output_type": "display_data"
    },
    {
     "data": {
      "image/png": "[encoded data removed]",
      "text/latex": [
       "$$\\tan{\\left (\\psi \\right )} = \\frac{2 q_{r} q_{x} + 2 q_{y} q_{z}}{- 2 q_{x}^{2} - 2 q_{y}^{2} + 1}$$"
      ],
      "text/plain": [
       "         2⋅qᵣ⋅qₓ + 2⋅q_y⋅q_z \n",
       "tan(ψ) = ────────────────────\n",
       "               2        2    \n",
       "         - 2⋅qₓ  - 2⋅q_y  + 1"
      ]
     },
     "metadata": {},
     "output_type": "display_data"
    }
   ],
   "source": [
    "eqs2 = list()\n",
    "for unknown in euler_angles:\n",
    "    direct_eqs = list()\n",
    "    eqs_sincos = list()\n",
    "    eqs_coscos = list()\n",
    "    for eq in eqs:\n",
    "        for row in zip(eq.lhs, eq.rhs):\n",
    "            lhs, rhs = row\n",
    "            if not unknown in rhs.atoms():\n",
    "                #print(\"Irrelevant for %s: %s\" % (unknown, rhs))\n",
    "                continue\n",
    "\n",
    "            a, b = zemul(rhs)\n",
    "\n",
    "            if isinstance(b, sympy.sin) and len(b.args) == 1:\n",
    "                direct_eqs.append((rhs, lhs))\n",
    "            elif b.is_Mul and len(b.args) == 2:\n",
    "                if is_sincos(b, unknown):\n",
    "                    eqs_sincos.append((rhs, lhs))\n",
    "                elif is_coscos(b, unknown):\n",
    "                    eqs_coscos.append((rhs, lhs))\n",
    "                else:\n",
    "                    pass\n",
    "                    #print(\"Unknown mul for %s: %s\" % (unknown, row))\n",
    "            else:\n",
    "                pass\n",
    "                #print(\"Unknown for %s: %s\" % (unknown, row))\n",
    "    print(\"\")\n",
    "\n",
    "    if direct_eqs:\n",
    "        lhs, rhs = direct_eqs[0]\n",
    "        eqs2.append(sympy.Eq(lhs, rhs))\n",
    "    elif eqs_sincos and eqs_coscos:\n",
    "        # Fortunately when iterating on the equations,\n",
    "        # the sincos/coscos terms always have the same second unknown\n",
    "        sc, cc = eqs_sincos[0], eqs_coscos[0]\n",
    "        lhs = (sc[0]/cc[0]).simplify()\n",
    "        rhs = (sc[1]/cc[1]).subs(q.r**2, 1-q.v[0]**2-q.v[1]**2-q.v[2]**2)\n",
    "        eqs2.append(sympy.Eq(lhs, rhs))\n",
    "    else:\n",
    "        raise NotImplementedError(\"No good equation for %s\" % unknown)\n",
    "\n",
    "for tmp in eqs2:\n",
    "    display(tmp)"
   ]
  },
  {
   "cell_type": "markdown",
   "metadata": {},
   "source": [
    "Now let's \"solve\":"
   ]
  },
  {
   "cell_type": "code",
   "execution_count": 14,
   "metadata": {
    "collapsed": false
   },
   "outputs": [
    {
     "data": {
      "image/png": "[encoded data removed]",
      "text/latex": [
       "$$\\phi = \\operatorname{atan_{2}}{\\left (2 q_{r} q_{z} + 2 q_{x} q_{y},- 2 q_{y}^{2} - 2 q_{z}^{2} + 1 \\right )}$$"
      ],
      "text/plain": [
       "         ⎛                            2        2    ⎞\n",
       "φ = atan2⎝2⋅qᵣ⋅q_z + 2⋅qₓ⋅q_y, - 2⋅q_y  - 2⋅q_z  + 1⎠"
      ]
     },
     "metadata": {},
     "output_type": "display_data"
    },
    {
     "data": {
      "image/png": "[encoded data removed]",
      "text/latex": [
       "$$\\chi = \\operatorname{asin}{\\left (2 q_{r} q_{y} - 2 q_{x} q_{z} \\right )}$$"
      ],
      "text/plain": [
       "khi = asin(2⋅qᵣ⋅q_y - 2⋅qₓ⋅q_z)"
      ]
     },
     "metadata": {},
     "output_type": "display_data"
    },
    {
     "data": {
      "image/png": "[encoded data removed]",
      "text/latex": [
       "$$\\psi = \\operatorname{atan_{2}}{\\left (2 q_{r} q_{x} + 2 q_{y} q_{z},- 2 q_{x}^{2} - 2 q_{y}^{2} + 1 \\right )}$$"
      ],
      "text/plain": [
       "         ⎛                           2        2    ⎞\n",
       "ψ = atan2⎝2⋅qᵣ⋅qₓ + 2⋅q_y⋅q_z, - 2⋅qₓ  - 2⋅q_y  + 1⎠"
      ]
     },
     "metadata": {},
     "output_type": "display_data"
    }
   ],
   "source": [
    "for eq in eqs2:\n",
    "    lhs, rhs = eq.lhs, eq.rhs\n",
    "    a, b = zemul(lhs)\n",
    "    lhs = a * lhs\n",
    "    rhs = a * rhs\n",
    "    if isinstance(b, sympy.tan):\n",
    "        num = 1\n",
    "        den = 1\n",
    "        for arg in rhs.args:\n",
    "            if arg.is_Pow and arg.args[1] == -1:\n",
    "                den = den * arg.args[0]\n",
    "            else:\n",
    "                num = num * arg\n",
    "        display(sympy.Eq(b.args[0], sympy.atan2(num, den)))\n",
    "    elif isinstance(b, sympy.sin):\n",
    "        display(sympy.Eq(b.args[0], sympy.asin(rhs)))\n",
    "    else:\n",
    "        raise NotImplementedError(b)\n"
   ]
  },
  {
   "cell_type": "markdown",
   "metadata": {},
   "source": [
    "That's it. Now what remains is to recognize the gimbal lock cases and handle them."
   ]
  }
 ],
 "metadata": {
  "celltoolbar": "Raw Cell Format",
  "kernelspec": {
   "display_name": "Python 2",
   "language": "python",
   "name": "python2"
  },
  "language_info": {
   "codemirror_mode": {
    "name": "ipython",
    "version": 2
   },
   "file_extension": ".py",
   "mimetype": "text/x-python",
   "name": "python",
   "nbconvert_exporter": "python",
   "pygments_lexer": "ipython2",
   "version": "2.7.12"
  }
 },
 "nbformat": 4,
 "nbformat_minor": 1
}
